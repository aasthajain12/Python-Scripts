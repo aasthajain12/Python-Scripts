{
 "cells": [
  {
   "cell_type": "code",
   "execution_count": 1,
   "metadata": {},
   "outputs": [],
   "source": [
    "#Rock Paper Scissor\n",
    "\n",
    "def takePlayerInput():\n",
    "    player=\"blank\"\n",
    "    while not(player.lower()==\"r\" or player.lower()==\"p\" or player.lower()==\"s\"):\n",
    "        player=input(\"please enter your input out of - R|P|S =\")\n",
    "    return player.lower()"
   ]
  },
  {
   "cell_type": "code",
   "execution_count": 2,
   "metadata": {},
   "outputs": [
    {
     "name": "stdout",
     "output_type": "stream",
     "text": [
      "please enter your input out of - R|P|S =s\n"
     ]
    },
    {
     "data": {
      "text/plain": [
       "'s'"
      ]
     },
     "execution_count": 2,
     "metadata": {},
     "output_type": "execute_result"
    }
   ],
   "source": [
    "takePlayerInput()"
   ]
  },
  {
   "cell_type": "code",
   "execution_count": 3,
   "metadata": {},
   "outputs": [
    {
     "name": "stdout",
     "output_type": "stream",
     "text": [
      "please enter your input out of - R|P|S =P\n"
     ]
    },
    {
     "data": {
      "text/plain": [
       "'p'"
      ]
     },
     "execution_count": 3,
     "metadata": {},
     "output_type": "execute_result"
    }
   ],
   "source": [
    "takePlayerInput()"
   ]
  },
  {
   "cell_type": "code",
   "execution_count": 6,
   "metadata": {},
   "outputs": [],
   "source": [
    "import random\n",
    "\n",
    "def getBotInput():\n",
    "    lst=['r','s','p']\n",
    "    return random.choice(lst)"
   ]
  },
  {
   "cell_type": "code",
   "execution_count": 7,
   "metadata": {},
   "outputs": [
    {
     "data": {
      "text/plain": [
       "'p'"
      ]
     },
     "execution_count": 7,
     "metadata": {},
     "output_type": "execute_result"
    }
   ],
   "source": [
    "getBotInput()"
   ]
  },
  {
   "cell_type": "code",
   "execution_count": 8,
   "metadata": {},
   "outputs": [],
   "source": [
    "def checkWinner(player,bot):\n",
    "    if player=='r' and bot=='r':\n",
    "        return \"draw\"\n",
    "    elif player=='r' and bot=='s':\n",
    "        return \"player\"\n",
    "    elif player=='r' and bot=='p':\n",
    "        return \"bot\"\n",
    "    elif player=='s' and bot=='r':\n",
    "        return \"bot\"\n",
    "    elif player=='s' and bot=='s':\n",
    "        return \"draw\"\n",
    "    elif player=='s' and bot=='p':\n",
    "        return \"player\"\n",
    "    elif player=='p' and bot=='r':\n",
    "        return \"player\"\n",
    "    elif player=='p' and bot=='s':\n",
    "        return \"bot\"\n",
    "    elif player=='p' and bot=='p':\n",
    "        return \"draw\"\n",
    "    else:\n",
    "        return \"draw\""
   ]
  },
  {
   "cell_type": "code",
   "execution_count": 9,
   "metadata": {},
   "outputs": [
    {
     "data": {
      "text/plain": [
       "'bot'"
      ]
     },
     "execution_count": 9,
     "metadata": {},
     "output_type": "execute_result"
    }
   ],
   "source": [
    "checkWinner('r','p')"
   ]
  },
  {
   "cell_type": "code",
   "execution_count": 12,
   "metadata": {},
   "outputs": [],
   "source": [
    "def rockPaperScissor():\n",
    "    endTheGame=\"n\"\n",
    "    player_score=0\n",
    "    bot_score=0\n",
    "    while endTheGame.lower()!=\"y\":\n",
    "        ply=takePlayerInput()\n",
    "        bt=getBotInput()\n",
    "        print('Bot Entered - ',bt)\n",
    "        print(\" \")\n",
    "        winner= checkWinner(player=ply, bot=bt)\n",
    "        print(\"Winner is -\",winner)\n",
    "        print(\" \")\n",
    "        if winner==\"player\":\n",
    "            player_score+=2\n",
    "        elif winner==\"bot\":\n",
    "            bot_score+=2\n",
    "        else:\n",
    "            player_score+=1\n",
    "            bot_score+=1\n",
    "        print(\"-------------Score Board-------------\")\n",
    "        print(\"Player scored = \",player_score)\n",
    "        print(\"Bot scored = \",bot_score)\n",
    "        print(\" \")\n",
    "        endTheGame = input(\"Are you sure you want to quit the game? (Y/N) = \")"
   ]
  },
  {
   "cell_type": "code",
   "execution_count": 13,
   "metadata": {},
   "outputs": [
    {
     "name": "stdout",
     "output_type": "stream",
     "text": [
      "please enter your input out of - R|P|S =R\n",
      "Bot Entered -  p\n",
      " \n",
      "Winner is - bot\n",
      " \n",
      "-------------Score Board-------------\n",
      "Player scored =  0\n",
      "Bot scored =  2\n",
      " \n",
      "Are you sure you want to quit the game? (Y/N) = n\n",
      "please enter your input out of - R|P|S =p\n",
      "Bot Entered -  p\n",
      " \n",
      "Winner is - draw\n",
      " \n",
      "-------------Score Board-------------\n",
      "Player scored =  1\n",
      "Bot scored =  3\n",
      " \n",
      "Are you sure you want to quit the game? (Y/N) = n\n",
      "please enter your input out of - R|P|S =s\n",
      "Bot Entered -  s\n",
      " \n",
      "Winner is - draw\n",
      " \n",
      "-------------Score Board-------------\n",
      "Player scored =  2\n",
      "Bot scored =  4\n",
      " \n",
      "Are you sure you want to quit the game? (Y/N) = n\n",
      "please enter your input out of - R|P|S =s\n",
      "Bot Entered -  r\n",
      " \n",
      "Winner is - bot\n",
      " \n",
      "-------------Score Board-------------\n",
      "Player scored =  2\n",
      "Bot scored =  6\n",
      " \n",
      "Are you sure you want to quit the game? (Y/N) = N\n",
      "please enter your input out of - R|P|S =P\n",
      "Bot Entered -  p\n",
      " \n",
      "Winner is - draw\n",
      " \n",
      "-------------Score Board-------------\n",
      "Player scored =  3\n",
      "Bot scored =  7\n",
      " \n",
      "Are you sure you want to quit the game? (Y/N) = y\n"
     ]
    }
   ],
   "source": [
    "rockPaperScissor()"
   ]
  }
 ],
 "metadata": {
  "kernelspec": {
   "display_name": "Python 3",
   "language": "python",
   "name": "python3"
  },
  "language_info": {
   "codemirror_mode": {
    "name": "ipython",
    "version": 3
   },
   "file_extension": ".py",
   "mimetype": "text/x-python",
   "name": "python",
   "nbconvert_exporter": "python",
   "pygments_lexer": "ipython3",
   "version": "3.7.6"
  }
 },
 "nbformat": 4,
 "nbformat_minor": 4
}
