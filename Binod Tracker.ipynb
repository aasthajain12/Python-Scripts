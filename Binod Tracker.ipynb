{
 "cells": [
  {
   "cell_type": "code",
   "execution_count": 1,
   "metadata": {},
   "outputs": [
    {
     "name": "stdout",
     "output_type": "stream",
     "text": [
      "Writing this.py\n"
     ]
    }
   ],
   "source": [
    "# Writing something in a file named this.py\n",
    "\n",
    "%%writefile this.py\n",
    "\n",
    "Hey Binod"
   ]
  },
  {
   "cell_type": "code",
   "execution_count": 2,
   "metadata": {},
   "outputs": [
    {
     "name": "stdout",
     "output_type": "stream",
     "text": [
      "Writing this2.py\n"
     ]
    }
   ],
   "source": [
    "# Writing something in a file named this2.py\n",
    "\n",
    "%%writefile this2.py\n",
    "\n",
    "This is containing a person named binod"
   ]
  },
  {
   "cell_type": "code",
   "execution_count": 32,
   "metadata": {},
   "outputs": [
    {
     "name": "stdout",
     "output_type": "stream",
     "text": [
      "Detecting Binod in capitalizeText.py\n",
      "Bindo not found in capitalizeText.py\n",
      "Detecting Binod in moduleOne.py\n",
      "Bindo not found in moduleOne.py\n",
      "Detecting Binod in oddeven.py\n",
      "Bindo not found in oddeven.py\n",
      "Detecting Binod in prime.py\n",
      "Bindo not found in prime.py\n",
      "Detecting Binod in some_code.py\n",
      "Bindo not found in some_code.py\n",
      "Detecting Binod in testCapText.py\n",
      "Bindo not found in testCapText.py\n",
      "Detecting Binod in this.py\n",
      "Binod found in this.py\n",
      "Detecting Binod in this2.py\n",
      "Binod found in this2.py\n",
      "Binod Detector Summary\n",
      "2 files found with binod hidden into it\n"
     ]
    }
   ],
   "source": [
    "import os\n",
    "\n",
    "def isBinod(filename):\n",
    "    with open(filename,\"r\") as f:\n",
    "        fileContent = f.read()\n",
    "    \n",
    "    # Detect all forms of Binod like biNoD\n",
    "    if \"binod\" in fileContent.lower():\n",
    "        return True\n",
    "    else:\n",
    "        return False\n",
    "  \n",
    "if __name__== \"__main__\":\n",
    "    # Listing the contents of this folder\n",
    "    dir_contents = os.listdir()\n",
    "    \n",
    "    nBinod = 0\n",
    "    # For each text file, run isBinod for them\n",
    "    for item in  dir_contents:\n",
    "        if item.endswith('py'):\n",
    "            print(f\"Detecting Binod in {item}\")\n",
    "            flag = isBinod(item)\n",
    "            if(flag):\n",
    "                print(f\"Binod found in {item}\")\n",
    "                nBinod +=1\n",
    "            else:\n",
    "                print(f\"Bindo not found in {item}\")\n",
    "print(\"Binod Detector Summary\")\n",
    "\n",
    "\n",
    "\n",
    "print(f\"{nBinod} files found with binod hidden into it\")\n",
    "\n",
    "\n",
    "\n"
   ]
  }
 ],
 "metadata": {
  "kernelspec": {
   "display_name": "Python 3",
   "language": "python",
   "name": "python3"
  },
  "language_info": {
   "codemirror_mode": {
    "name": "ipython",
    "version": 3
   },
   "file_extension": ".py",
   "mimetype": "text/x-python",
   "name": "python",
   "nbconvert_exporter": "python",
   "pygments_lexer": "ipython3",
   "version": "3.7.6"
  }
 },
 "nbformat": 4,
 "nbformat_minor": 4
}
